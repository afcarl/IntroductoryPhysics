{
 "cells": [
  {
   "cell_type": "code",
   "execution_count": 43,
   "metadata": {},
   "outputs": [
    {
     "data": {
      "text/plain": [
       "<module 'makesyllabus' from '/Users/mglerner/coding/IntroductoryPhysics/makesyllabus.py'>"
      ]
     },
     "execution_count": 43,
     "metadata": {},
     "output_type": "execute_result"
    }
   ],
   "source": [
    "import imp, glob\n",
    "import pandas as pd\n",
    "import makesyllabus\n",
    "imp.reload(makesyllabus)"
   ]
  },
  {
   "cell_type": "code",
   "execution_count": 44,
   "metadata": {},
   "outputs": [],
   "source": [
    "def scientistparts(fname):\n",
    "    \"\"\"The scientist file looks like\n",
    "    # Name\n",
    "    Margaret Murnane\n",
    "    # Description\n",
    "    Words words words\n",
    "    words words words\n",
    "\n",
    "    # Sources\n",
    "    sourcy source\n",
    "\n",
    "    ...\n",
    "\n",
    "    This is an iterator that returns the (item name, content)\n",
    "    We expect to combine things (e.g. all of the lines in the \n",
    "    description) later. But not now, because, e.g., each line \n",
    "    in the textbook part is a separate textbook.\n",
    "    \"\"\"\n",
    "    item_name,content = None,[]\n",
    "\n",
    "    for line in open(fname):\n",
    "        if line.startswith('#'):\n",
    "            if item_name is not None:\n",
    "                yield (item_name,[i for i in content if i.strip()])\n",
    "            item_name = line.replace('#','').strip()\n",
    "            content = []\n",
    "        else:\n",
    "            content.append(line.strip())\n",
    "    if item_name is not None:\n",
    "        yield(item_name,[i for i in content if i.strip()])"
   ]
  },
  {
   "cell_type": "code",
   "execution_count": 45,
   "metadata": {},
   "outputs": [
    {
     "name": "stdout",
     "output_type": "stream",
     "text": [
      "Adding [['Lene Hau']]\n",
      "Adding [['C.V. Raman']]\n",
      "Adding [['E. C. George Sudarshan']]\n",
      "Adding [['Margaret Murnane']]\n",
      "Adding [['Sandra Faber']]\n",
      "Adding [['Deepto Chakrabarty']]\n",
      "Adding [['Miranda Cheng']]\n",
      "Adding [['Warren Henry']]\n",
      "Adding [['Michio Katu']]\n",
      "Adding [['Robert Bragg']]\n",
      "Adding [['Michael Ramsey-Musolf']]\n",
      "Adding [['Ibn al-Haytham']]\n",
      "Adding [['Masahiro Morii']]\n",
      "Adding [['Fabiola Gianotti']]\n",
      "Adding [['Jeevak Parpia']]\n",
      "Adding [['Tsung-Dao Lee']]\n",
      "Adding [['Subrahmanyan Chandrasekhar']]\n",
      "Adding [['Bhāskara II']]\n",
      "Adding [['Shirley Ann Jackson']]\n",
      "Adding [['Dr. Hadiyah Green']]\n",
      "Adding [['Garret Morgan']]\n",
      "Adding [['Ursula Franklin']]\n",
      "Adding [['Chien-Shiung Wu']]\n",
      "Adding [['Ronald McNair']]\n",
      "Adding [['Nikta Fakhri']]\n",
      "Adding [['Emmy Noether']]\n",
      "Adding [['Gang-yu Liu']]\n",
      "Adding [['Ruby Payne-Scott']]\n",
      "Adding [['Lise Meitner']]\n",
      "Adding [['Raymond Ashoori']]\n",
      "Adding [[\"Shin'ichirō Tomonaga\"]]\n",
      "Adding [['Arthur Walker Jr.']]\n",
      "Adding [['Nergis Mavalvala']]\n",
      "Adding [['Chen-Ning Yang']]\n",
      "Adding [['Sylvester James Gate']]\n",
      "Adding [['Isamu Akasaki']]\n",
      "Adding [['Qiudong Wang']]\n"
     ]
    }
   ],
   "source": [
    "class Scientist:\n",
    "    def __init__(self,fname):\n",
    "        #self._scientistdict = dict(scientistparts(fname))\n",
    "        # Can't quite do that because older format had you \n",
    "        # putting in two #Textbook parts instead of just two \n",
    "        # lines under #textbook, for instance.\n",
    "\n",
    "        # So, everything in here is assumed to be a list.\n",
    "        self._scientistdict = {}\n",
    "        for (k,v) in scientistparts(fname):\n",
    "            if k in self._scientistdict:\n",
    "                self._scientistdict[k].append(v)\n",
    "            else:\n",
    "                self._scientistdict[k] = [v]\n",
    "    def matchestextbook(self,author,title,edition,verbose=False):\n",
    "        # Should match title. For now, just match edition\n",
    "        # If matches, return chapter and section\n",
    "        # This is why I need a dropdown for \"known\" textbooks. And I need to fix the others via a script.\n",
    "        # Right now, we only know Knight 3rd edition (that's calc)\n",
    "        # and Knight 2nd edition (that's alg.)\n",
    "        for txt in self._scientistdict['Textbook']:\n",
    "            parts = txt.split(',')\n",
    "            textbook,chapter,section = [],None,None\n",
    "            for part in parts:\n",
    "                _part = part.lower().strip()\n",
    "                if _part.startswith('chapter'):\n",
    "                    chapter = int(_part.replace('chapter','').strip())\n",
    "                elif _part.startswith('section'):\n",
    "                    section = int(_part.replace('section','').strip())\n",
    "                else:\n",
    "                    textbook.append(part)\n",
    "            return({'Textbook':','.join(textbook),\n",
    "                'Chapter':chapter,\n",
    "                'Section':section})\n",
    "            \n",
    "        \n",
    "        \n",
    "scientists = [Scientist(fname) for fname in glob.glob('Scientists/*.txt')]\n",
    "def maketextbook(fname,*,author,title,edition,scientists):\n",
    "    d = pd.read_csv(fname)\n",
    "    for scientist in scientists:\n",
    "        if scientist.matchestextbook(author=author,title=title,edition=edition):\n",
    "            \n",
    "        print('Adding',scientist._scientistdict['Name'])\n",
    "maketextbook('Textbooks/Knight3rdEdition.csv',\n",
    "             author='Knight', \n",
    "             title='Physics for Scientists and Engineers: A Strategic Approach with Modern Physics', \n",
    "             edition='3rd Edition',\n",
    "             scientists=scientists)\n"
   ]
  },
  {
   "cell_type": "code",
   "execution_count": 42,
   "metadata": {},
   "outputs": [
    {
     "data": {
      "text/plain": [
       "{'Contributors': [[]],\n",
       " 'Description': [['Lene Vestergaard Hau (born November 13, 1959 in Vejle, Denmark) is a Danish physicist. In 1999, she led a Harvard University team who, by use of a Bose-Einstein condensate, succeeded in slowing a beam of light to about 17 metres per second, and, in 2001, was able to stop a beam completely. Later work based on these experiments led to the transfer of light to matter, then from matter back into light,[2] a process with important implications for quantum encryption and quantum computing. More recent work has involved research into novel interactions between ultracold atom and nanoscopic scale systems. In addition to teaching physics and applied physics, she has taught Energy Science at Harvard,[3] involving photovoltaic cells, nuclear power, batteries, and photosynthesis']],\n",
       " 'Name': [['Lene Hau']],\n",
       " 'Sources': [['https://en.wikipedia.org/wiki/Lene_Hau']],\n",
       " 'Textbook': [['Knight, 3rd edition, Chapter 40']]}"
      ]
     },
     "execution_count": 42,
     "metadata": {},
     "output_type": "execute_result"
    }
   ],
   "source": [
    "scientists[0]._scientistdict"
   ]
  },
  {
   "cell_type": "code",
   "execution_count": 34,
   "metadata": {},
   "outputs": [
    {
     "data": {
      "text/plain": [
       "{'Description': [['Margaret Murnane is an optical physicist at the University of',\n",
       "   'Colorado. She has built \"the fastest things that humans have ever',\n",
       "   'created\" lasers which can flash for \"ten quadrillionths of a second\"!',\n",
       "   'Her background includes the fact that \"physics was [her] worst subject',\n",
       "   'in high school\" but she dreamed of being a physicist because she loved',\n",
       "   'the \"excitement of discovery.\" She and her husband now run a lab at',\n",
       "   'the University of Colorado. In the lab, she records \"some of the',\n",
       "   'fastest motions in our natural world.\" Her lasers can capture the',\n",
       "   'movement of electrons. Her newest laser and x-ray beams can flash for',\n",
       "   'less than 0.00000000000000001 seconds. Talk about \"in the blink of an',\n",
       "   'eye!\" She is able to pass on excitement and knowledge to',\n",
       "   'students. Scientists use her lasers which are based on her',\n",
       "   'titanium-sapphire design to study a wide range of phenomena (chemical',\n",
       "   'reactions, etc.).',\n",
       "   '']],\n",
       " 'Name': [['Margaret Murnane']],\n",
       " 'Photo': [['https://jila.colorado.edu/kmlabs/sites/default/files/styles/200_image/public/images/bios/Margaret_Murnane_portrait.jpg?itok=jY-_AF2Q']],\n",
       " 'Sources': [['https://en.wikipedia.org/wiki/Margaret_Murnane',\n",
       "   'https://jila.colorado.edu/kmlabs/bio/murnane',\n",
       "   '']],\n",
       " 'Textbook': [['Knight, 3rd edition, Chapter 32, section 2'],\n",
       "  ['Halliday Resnick and Walker, 6th edition, Chapter 6', '']]}"
      ]
     },
     "execution_count": 34,
     "metadata": {},
     "output_type": "execute_result"
    }
   ],
   "source": [
    "s._scientistdict"
   ]
  },
  {
   "cell_type": "code",
   "execution_count": null,
   "metadata": {},
   "outputs": [],
   "source": []
  }
 ],
 "metadata": {
  "kernelspec": {
   "display_name": "Python 3",
   "language": "python",
   "name": "python3"
  },
  "language_info": {
   "codemirror_mode": {
    "name": "ipython",
    "version": 3
   },
   "file_extension": ".py",
   "mimetype": "text/x-python",
   "name": "python",
   "nbconvert_exporter": "python",
   "pygments_lexer": "ipython3",
   "version": "3.6.4"
  }
 },
 "nbformat": 4,
 "nbformat_minor": 2
}
