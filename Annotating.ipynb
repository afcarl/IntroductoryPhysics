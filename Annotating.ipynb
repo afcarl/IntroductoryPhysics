{
 "cells": [
  {
   "cell_type": "code",
   "execution_count": 6,
   "metadata": {},
   "outputs": [],
   "source": [
    "import makesyllabus\n",
    "import imp\n",
    "from IPython.display import HTML"
   ]
  },
  {
   "cell_type": "code",
   "execution_count": null,
   "metadata": {},
   "outputs": [],
   "source": [
    "imp.reload(makesyllabus)\n",
    "html = makesyllabus.makeKnightCalc3rd()"
   ]
  },
  {
   "cell_type": "code",
   "execution_count": null,
   "metadata": {},
   "outputs": [],
   "source": [
    "HTML(html)"
   ]
  },
  {
   "cell_type": "code",
   "execution_count": null,
   "metadata": {},
   "outputs": [],
   "source": []
  },
  {
   "cell_type": "markdown",
   "metadata": {},
   "source": [
    "I'm also experimenting with using some better CSS for formatting tables. I love Tom Augspurger's CSS from his [Modern Pandas](https://tomaugspurger.github.io/modern-1.html) series! His CSS is [here](https://github.com/TomAugspurger/TomAugspurger.github.io/blob/a18a88e47c5eee0b1011509692dcfc06f2d2fa28/theme/css/main.css#L49). Just copying it didn't work. I tried\n",
    "\n",
    "```HTML\n",
    "from IPython.core.display import HTML\n",
    "HTML(\"\"\"\n",
    "<style>\n",
    "@font-face { font-family: ETBembo;\n",
    "             src: url(\"ETBembo-RomanLF.ttf\"); }\n",
    "\n",
    "...\n",
    "\"\"\")\n",
    "```"
   ]
  }
 ],
 "metadata": {
  "anaconda-cloud": {},
  "kernelspec": {
   "display_name": "Python 3",
   "language": "python",
   "name": "python3"
  },
  "language_info": {
   "codemirror_mode": {
    "name": "ipython",
    "version": 3
   },
   "file_extension": ".py",
   "mimetype": "text/x-python",
   "name": "python",
   "nbconvert_exporter": "python",
   "pygments_lexer": "ipython3",
   "version": "3.6.4"
  }
 },
 "nbformat": 4,
 "nbformat_minor": 2
}
